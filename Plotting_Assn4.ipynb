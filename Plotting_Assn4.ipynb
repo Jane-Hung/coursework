{
 "cells": [
  {
   "cell_type": "markdown",
   "metadata": {},
   "source": [
    "# Coursera: Applied Plotting, Charting and Data Representation in Python\n",
    "University of Michigan  \n",
    "Plotting Assigment 4\n",
    "\n",
    "Author: Jane Hung  \n",
    "Date: July 22, 2019"
   ]
  },
  {
   "cell_type": "markdown",
   "metadata": {},
   "source": [
    " Requirements: \n",
    " * State the region and the domain category that your data sets are about (e.g., **Raleigh, North Carolina, United States** and **economic activity or measures**).\n",
    " * You must state a question about the domain category and region that you identified as being interesting.\n",
    " * You must provide at least two links to available datasets. These could be links to files such as CSV or Excel files, or links to websites which might have data in tabular form, such as Wikipedia pages.\n",
    " * You must upload an image which addresses the research question you stated. In addition to addressing the question, this visual should follow Cairo's principles of truthfulness, functionality, beauty, and insightfulness.\n",
    " * You must contribute a short (1-2 paragraph) written justification of how your visualization addresses your stated research question.\n"
   ]
  },
  {
   "cell_type": "markdown",
   "metadata": {},
   "source": [
    "Response:\n",
    "* The data sets chosen are about average cost of attendance for universities in North Carolina, United States and New York, United States.\n",
    "* Question: What is the difference between cost of attendance at universities in North Carolina and in New York?\n",
    "* Datasets extracted using API calls to [college scorecard data](https://collegescorecard.ed.gov/data/documentation/). [Link](https://collegescorecard.ed.gov/search/?state=NC&sort=salary:desc&page=1) to how this data was used visually in the college scorecard."
   ]
  },
  {
   "cell_type": "markdown",
   "metadata": {},
   "source": [
    "## Initialize environment"
   ]
  },
  {
   "cell_type": "code",
   "execution_count": 104,
   "metadata": {
    "collapsed": false
   },
   "outputs": [],
   "source": [
    "import requests\n",
    "import pandas as pd\n",
    "import numpy as np\n",
    "import matplotlib.pyplot as plt\n",
    "import seaborn as sns\n",
    "import json\n",
    "% matplotlib inline\n",
    "\n",
    "# statistics packages\n",
    "from statsmodels.graphics.gofplots import qqplot\n",
    "from scipy.stats import shapiro\n",
    "from scipy.stats import mannwhitneyu\n",
    "\n",
    "from IPython.core.interactiveshell import InteractiveShell\n",
    "InteractiveShell.ast_node_interactivity = \"all\""
   ]
  },
  {
   "cell_type": "markdown",
   "metadata": {},
   "source": [
    "## NC schools API call\n",
    "Use the requests package to query data through an API call. Use this [resource](https://github.com/RTICWDT/open-data-maker/blob/master/API.md) for help building the query.  \n",
    "\n",
    "Originally, this data built up the report for the Department of Education's [College Scorecard](https://collegescorecard.ed.gov/).\n",
    "\n",
    "Queried data with these requirements:  \n",
    "* **North Carolina:**\n",
    "    - State FIPS = 37\n",
    "    - School name\n",
    "    - School city\n",
    "    - Latest average net price, public\n",
    "    - Latest average net price, private\n",
    "* **New York:**\n",
    "    - State FIPS = 36\n",
    "    - School name\n",
    "    - School city\n",
    "    - Latest average net price, public\n",
    "    - Latest average net price, private"
   ]
  },
  {
   "cell_type": "code",
   "execution_count": 17,
   "metadata": {
    "collapsed": false
   },
   "outputs": [
    {
     "data": {
      "text/plain": [
       "200"
      ]
     },
     "execution_count": 17,
     "metadata": {},
     "output_type": "execute_result"
    }
   ],
   "source": [
    "url = 'https://api.data.gov/ed/collegescorecard/v1/schools.json?school.state_fips=37&_fields=school.name,school.city,latest.cost.avg_net_price.public,latest.cost.avg_net_price.private&api_key=PYiV7sp48Hy8l2XDg3bgx4tEEOLW8oaPthCNtgjR'\n",
    "response = requests.get(url)\n",
    "response.status_code"
   ]
  },
  {
   "cell_type": "code",
   "execution_count": 18,
   "metadata": {
    "collapsed": false,
    "scrolled": true
   },
   "outputs": [
    {
     "data": {
      "text/plain": [
       "[{'latest.cost.avg_net_price.private': None,\n",
       "  'latest.cost.avg_net_price.public': 7861,\n",
       "  'school.city': 'Spindale',\n",
       "  'school.name': 'Isothermal Community College'},\n",
       " {'latest.cost.avg_net_price.private': 23018,\n",
       "  'latest.cost.avg_net_price.public': None,\n",
       "  'school.city': 'Greensboro',\n",
       "  'school.name': 'Bennett College'},\n",
       " {'latest.cost.avg_net_price.private': None,\n",
       "  'latest.cost.avg_net_price.public': 9068,\n",
       "  'school.city': 'Morehead City',\n",
       "  'school.name': 'Carteret Community College'},\n",
       " {'latest.cost.avg_net_price.private': None,\n",
       "  'latest.cost.avg_net_price.public': 5662,\n",
       "  'school.city': 'Polkton',\n",
       "  'school.name': 'South Piedmont Community College'},\n",
       " {'latest.cost.avg_net_price.private': None,\n",
       "  'latest.cost.avg_net_price.public': 13691,\n",
       "  'school.city': 'Boone',\n",
       "  'school.name': 'Appalachian State University'},\n",
       " {'latest.cost.avg_net_price.private': None,\n",
       "  'latest.cost.avg_net_price.public': 6101,\n",
       "  'school.city': 'Charlotte',\n",
       "  'school.name': 'Central Piedmont Community College'},\n",
       " {'latest.cost.avg_net_price.private': 17569,\n",
       "  'latest.cost.avg_net_price.public': None,\n",
       "  'school.city': 'Murfreesboro',\n",
       "  'school.name': 'Chowan University'},\n",
       " {'latest.cost.avg_net_price.private': None,\n",
       "  'latest.cost.avg_net_price.public': 9340,\n",
       "  'school.city': 'Jacksonville',\n",
       "  'school.name': 'Coastal Carolina Community College'},\n",
       " {'latest.cost.avg_net_price.private': None,\n",
       "  'latest.cost.avg_net_price.public': 4046,\n",
       "  'school.city': 'Hamlet',\n",
       "  'school.name': 'Richmond Community College'},\n",
       " {'latest.cost.avg_net_price.private': None,\n",
       "  'latest.cost.avg_net_price.public': 7484,\n",
       "  'school.city': 'Thomasville',\n",
       "  'school.name': 'Davidson County Community College'},\n",
       " {'latest.cost.avg_net_price.private': None,\n",
       "  'latest.cost.avg_net_price.public': 7670,\n",
       "  'school.city': 'Kenansville',\n",
       "  'school.name': 'James Sprunt Community College'},\n",
       " {'latest.cost.avg_net_price.private': 35737,\n",
       "  'latest.cost.avg_net_price.public': None,\n",
       "  'school.city': 'Durham',\n",
       "  'school.name': 'Duke University'},\n",
       " {'latest.cost.avg_net_price.private': 19820,\n",
       "  'latest.cost.avg_net_price.public': None,\n",
       "  'school.city': 'Charlotte',\n",
       "  'school.name': 'Johnson C Smith University'},\n",
       " {'latest.cost.avg_net_price.private': None,\n",
       "  'latest.cost.avg_net_price.public': 5824,\n",
       "  'school.city': 'Fayetteville',\n",
       "  'school.name': 'Fayetteville State University'},\n",
       " {'latest.cost.avg_net_price.private': 12042,\n",
       "  'latest.cost.avg_net_price.public': None,\n",
       "  'school.city': 'Fayetteville',\n",
       "  'school.name': 'Paul Mitchell the School-Fayetteville'},\n",
       " {'latest.cost.avg_net_price.private': None,\n",
       "  'latest.cost.avg_net_price.public': 15024,\n",
       "  'school.city': 'Raleigh',\n",
       "  'school.name': 'North Carolina State University at Raleigh'},\n",
       " {'latest.cost.avg_net_price.private': 16205,\n",
       "  'latest.cost.avg_net_price.public': None,\n",
       "  'school.city': 'Rocky Mount',\n",
       "  'school.name': 'North Carolina Wesleyan College'},\n",
       " {'latest.cost.avg_net_price.private': None,\n",
       "  'latest.cost.avg_net_price.public': 10959,\n",
       "  'school.city': 'Dallas',\n",
       "  'school.name': 'Gaston College'},\n",
       " {'latest.cost.avg_net_price.private': None,\n",
       "  'latest.cost.avg_net_price.public': 5142,\n",
       "  'school.city': 'Grantsboro',\n",
       "  'school.name': 'Pamlico Community College'},\n",
       " {'latest.cost.avg_net_price.private': 23560,\n",
       "  'latest.cost.avg_net_price.public': None,\n",
       "  'school.city': 'Greensboro',\n",
       "  'school.name': 'Guilford College'}]"
      ]
     },
     "execution_count": 18,
     "metadata": {},
     "output_type": "execute_result"
    }
   ],
   "source": [
    "total_results=[]\n",
    "total_results = total_results + json.loads(response.text)['results']\n",
    "total_results"
   ]
  },
  {
   "cell_type": "code",
   "execution_count": 19,
   "metadata": {
    "collapsed": false
   },
   "outputs": [
    {
     "name": "stdout",
     "output_type": "stream",
     "text": [
      "Next page found, downloading page 1\n",
      "Number of results processed: 40 \n",
      "Total number of results: 187\n",
      "Next page found, downloading page 2\n",
      "Number of results processed: 60 \n",
      "Total number of results: 187\n",
      "Next page found, downloading page 3\n",
      "Number of results processed: 80 \n",
      "Total number of results: 187\n",
      "Next page found, downloading page 4\n",
      "Number of results processed: 100 \n",
      "Total number of results: 187\n",
      "Next page found, downloading page 5\n",
      "Number of results processed: 120 \n",
      "Total number of results: 187\n",
      "Next page found, downloading page 6\n",
      "Number of results processed: 140 \n",
      "Total number of results: 187\n",
      "Next page found, downloading page 7\n",
      "Number of results processed: 160 \n",
      "Total number of results: 187\n",
      "Next page found, downloading page 8\n",
      "Number of results processed: 180 \n",
      "Total number of results: 187\n",
      "Next page found, downloading page 9\n",
      "Number of results processed: 187 \n",
      "Total number of results: 187\n"
     ]
    }
   ],
   "source": [
    "while (response.json()['metadata']['page']+ 1 ) * response.json()['metadata']['per_page'] < response.json()['metadata']['total']:\n",
    "    print(\"\\nNext page found, downloading page\", response.json()['metadata']['page']+ 1)\n",
    "    next_page_url = url = 'https://api.data.gov/ed/collegescorecard/v1/schools.json?school.state_fips=37&_fields=school.name,school.city,latest.cost.avg_net_price.public,latest.cost.avg_net_price.private&_page={}&api_key=PYiV7sp48Hy8l2XDg3bgx4tEEOLW8oaPthCNtgjR' \\\n",
    "        .format(response.json()['metadata']['page']+ 1)\n",
    "    response = requests.get(next_page_url)\n",
    "    # Store the current page of results\n",
    "    total_results = total_results + json.loads(response.text)['results']\n",
    "    print(\"Number of results processed: {} \\nTotal number of results: {}\".format(\n",
    "            len(total_results), response.json()['metadata']['total']))"
   ]
  },
  {
   "cell_type": "code",
   "execution_count": 20,
   "metadata": {
    "collapsed": false
   },
   "outputs": [
    {
     "data": {
      "text/html": [
       "<div>\n",
       "<style>\n",
       "    .dataframe thead tr:only-child th {\n",
       "        text-align: right;\n",
       "    }\n",
       "\n",
       "    .dataframe thead th {\n",
       "        text-align: left;\n",
       "    }\n",
       "\n",
       "    .dataframe tbody tr th {\n",
       "        vertical-align: top;\n",
       "    }\n",
       "</style>\n",
       "<table border=\"1\" class=\"dataframe\">\n",
       "  <thead>\n",
       "    <tr style=\"text-align: right;\">\n",
       "      <th></th>\n",
       "      <th>latest.cost.avg_net_price.private</th>\n",
       "      <th>latest.cost.avg_net_price.public</th>\n",
       "      <th>school.city</th>\n",
       "      <th>school.name</th>\n",
       "    </tr>\n",
       "  </thead>\n",
       "  <tbody>\n",
       "    <tr>\n",
       "      <th>0</th>\n",
       "      <td>NaN</td>\n",
       "      <td>7861.0</td>\n",
       "      <td>Spindale</td>\n",
       "      <td>Isothermal Community College</td>\n",
       "    </tr>\n",
       "    <tr>\n",
       "      <th>1</th>\n",
       "      <td>23018.0</td>\n",
       "      <td>NaN</td>\n",
       "      <td>Greensboro</td>\n",
       "      <td>Bennett College</td>\n",
       "    </tr>\n",
       "    <tr>\n",
       "      <th>2</th>\n",
       "      <td>NaN</td>\n",
       "      <td>9068.0</td>\n",
       "      <td>Morehead City</td>\n",
       "      <td>Carteret Community College</td>\n",
       "    </tr>\n",
       "    <tr>\n",
       "      <th>3</th>\n",
       "      <td>NaN</td>\n",
       "      <td>5662.0</td>\n",
       "      <td>Polkton</td>\n",
       "      <td>South Piedmont Community College</td>\n",
       "    </tr>\n",
       "    <tr>\n",
       "      <th>4</th>\n",
       "      <td>NaN</td>\n",
       "      <td>13691.0</td>\n",
       "      <td>Boone</td>\n",
       "      <td>Appalachian State University</td>\n",
       "    </tr>\n",
       "  </tbody>\n",
       "</table>\n",
       "</div>"
      ],
      "text/plain": [
       "   latest.cost.avg_net_price.private  latest.cost.avg_net_price.public  \\\n",
       "0                                NaN                            7861.0   \n",
       "1                            23018.0                               NaN   \n",
       "2                                NaN                            9068.0   \n",
       "3                                NaN                            5662.0   \n",
       "4                                NaN                           13691.0   \n",
       "\n",
       "     school.city                       school.name  \n",
       "0       Spindale      Isothermal Community College  \n",
       "1     Greensboro                   Bennett College  \n",
       "2  Morehead City        Carteret Community College  \n",
       "3        Polkton  South Piedmont Community College  \n",
       "4          Boone      Appalachian State University  "
      ]
     },
     "execution_count": 20,
     "metadata": {},
     "output_type": "execute_result"
    },
    {
     "data": {
      "text/plain": [
       "(187, 4)"
      ]
     },
     "execution_count": 20,
     "metadata": {},
     "output_type": "execute_result"
    }
   ],
   "source": [
    "nc_school = pd.DataFrame(total_results)\n",
    "nc_school.head()\n",
    "nc_school.shape"
   ]
  },
  {
   "cell_type": "markdown",
   "metadata": {},
   "source": [
    "## NY schools API call"
   ]
  },
  {
   "cell_type": "code",
   "execution_count": 21,
   "metadata": {
    "collapsed": false
   },
   "outputs": [
    {
     "data": {
      "text/plain": [
       "200"
      ]
     },
     "execution_count": 21,
     "metadata": {},
     "output_type": "execute_result"
    }
   ],
   "source": [
    "url = 'https://api.data.gov/ed/collegescorecard/v1/schools.json?school.state_fips=36&_fields=school.name,school.city,latest.cost.avg_net_price.public,latest.cost.avg_net_price.private&api_key=PYiV7sp48Hy8l2XDg3bgx4tEEOLW8oaPthCNtgjR'\n",
    "response = requests.get(url)\n",
    "response.status_code"
   ]
  },
  {
   "cell_type": "code",
   "execution_count": 22,
   "metadata": {
    "collapsed": false,
    "scrolled": true
   },
   "outputs": [
    {
     "data": {
      "text/plain": [
       "[{'latest.cost.avg_net_price.private': None,\n",
       "  'latest.cost.avg_net_price.public': None,\n",
       "  'school.city': 'Astoria',\n",
       "  'school.name': 'Miami Ad School-New York'},\n",
       " {'latest.cost.avg_net_price.private': 10404,\n",
       "  'latest.cost.avg_net_price.public': None,\n",
       "  'school.city': 'Latham',\n",
       "  'school.name': 'Aesthetic Science Institute'},\n",
       " {'latest.cost.avg_net_price.private': 25602,\n",
       "  'latest.cost.avg_net_price.public': None,\n",
       "  'school.city': 'New York',\n",
       "  'school.name': 'Digital Film Academy'},\n",
       " {'latest.cost.avg_net_price.private': 11886,\n",
       "  'latest.cost.avg_net_price.public': None,\n",
       "  'school.city': 'Copiague',\n",
       "  'school.name': 'Electrical Training Center'},\n",
       " {'latest.cost.avg_net_price.private': None,\n",
       "  'latest.cost.avg_net_price.public': None,\n",
       "  'school.city': 'Hempstead',\n",
       "  'school.name': 'Access Careers'},\n",
       " {'latest.cost.avg_net_price.private': None,\n",
       "  'latest.cost.avg_net_price.public': None,\n",
       "  'school.city': 'Monsey',\n",
       "  'school.name': \"Mechon L'hoyroa\"},\n",
       " {'latest.cost.avg_net_price.private': 33356,\n",
       "  'latest.cost.avg_net_price.public': None,\n",
       "  'school.city': 'Brooklyn',\n",
       "  'school.name': 'AMG School of Licensed Practical Nursing'},\n",
       " {'latest.cost.avg_net_price.private': None,\n",
       "  'latest.cost.avg_net_price.public': None,\n",
       "  'school.city': 'Syracuse',\n",
       "  'school.name': 'Columbia College - Hancock Field'},\n",
       " {'latest.cost.avg_net_price.private': 9621,\n",
       "  'latest.cost.avg_net_price.public': None,\n",
       "  'school.city': 'Lima',\n",
       "  'school.name': 'Elim Bible Institute and College'},\n",
       " {'latest.cost.avg_net_price.private': 20049,\n",
       "  'latest.cost.avg_net_price.public': None,\n",
       "  'school.city': 'Amityville',\n",
       "  'school.name': 'Branford Hall Career Institute-Amityville'},\n",
       " {'latest.cost.avg_net_price.private': None,\n",
       "  'latest.cost.avg_net_price.public': 4551,\n",
       "  'school.city': 'New York',\n",
       "  'school.name': 'Stella and Charles Guttman Community College'},\n",
       " {'latest.cost.avg_net_price.private': 14677,\n",
       "  'latest.cost.avg_net_price.public': None,\n",
       "  'school.city': 'Rochester',\n",
       "  'school.name': 'Empire Beauty School-Rochester'},\n",
       " {'latest.cost.avg_net_price.private': None,\n",
       "  'latest.cost.avg_net_price.public': None,\n",
       "  'school.city': 'New York',\n",
       "  'school.name': 'New York Theological Seminary'},\n",
       " {'latest.cost.avg_net_price.private': 16817,\n",
       "  'latest.cost.avg_net_price.public': None,\n",
       "  'school.city': 'Staten Island',\n",
       "  'school.name': 'Academy of Cosmetology and Esthetics NYC'},\n",
       " {'latest.cost.avg_net_price.private': 4610,\n",
       "  'latest.cost.avg_net_price.public': None,\n",
       "  'school.city': 'Mt. Kisco',\n",
       "  'school.name': 'Finger Lakes School of Massage'},\n",
       " {'latest.cost.avg_net_price.private': 11701,\n",
       "  'latest.cost.avg_net_price.public': None,\n",
       "  'school.city': 'Levittown',\n",
       "  'school.name': 'Long Island Nail & Skin Care Institute'},\n",
       " {'latest.cost.avg_net_price.private': 10752,\n",
       "  'latest.cost.avg_net_price.public': None,\n",
       "  'school.city': 'New York',\n",
       "  'school.name': 'Atelier Esthetique Institute of Esthetics'},\n",
       " {'latest.cost.avg_net_price.private': None,\n",
       "  'latest.cost.avg_net_price.public': None,\n",
       "  'school.city': 'Brooklyn',\n",
       "  'school.name': 'Franklin Career Institute'},\n",
       " {'latest.cost.avg_net_price.private': 34019,\n",
       "  'latest.cost.avg_net_price.public': None,\n",
       "  'school.city': 'New York',\n",
       "  'school.name': 'SAE Institute of Technology-New York'},\n",
       " {'latest.cost.avg_net_price.private': None,\n",
       "  'latest.cost.avg_net_price.public': None,\n",
       "  'school.city': 'Rochester',\n",
       "  'school.name': 'Onondaga School of Therapeutic Massage-Rochester'}]"
      ]
     },
     "execution_count": 22,
     "metadata": {},
     "output_type": "execute_result"
    }
   ],
   "source": [
    "total_results=[]\n",
    "total_results = total_results + json.loads(response.text)['results']\n",
    "total_results"
   ]
  },
  {
   "cell_type": "code",
   "execution_count": 23,
   "metadata": {
    "collapsed": false
   },
   "outputs": [
    {
     "name": "stdout",
     "output_type": "stream",
     "text": [
      "Next page found, downloading page 1\n",
      "Number of results processed: 40 \n",
      "Total number of results: 449\n",
      "Next page found, downloading page 2\n",
      "Number of results processed: 60 \n",
      "Total number of results: 449\n",
      "Next page found, downloading page 3\n",
      "Number of results processed: 80 \n",
      "Total number of results: 449\n",
      "Next page found, downloading page 4\n",
      "Number of results processed: 100 \n",
      "Total number of results: 449\n",
      "Next page found, downloading page 5\n",
      "Number of results processed: 120 \n",
      "Total number of results: 449\n",
      "Next page found, downloading page 6\n",
      "Number of results processed: 140 \n",
      "Total number of results: 449\n",
      "Next page found, downloading page 7\n",
      "Number of results processed: 160 \n",
      "Total number of results: 449\n",
      "Next page found, downloading page 8\n",
      "Number of results processed: 180 \n",
      "Total number of results: 449\n",
      "Next page found, downloading page 9\n",
      "Number of results processed: 200 \n",
      "Total number of results: 449\n",
      "Next page found, downloading page 10\n",
      "Number of results processed: 220 \n",
      "Total number of results: 449\n",
      "Next page found, downloading page 11\n",
      "Number of results processed: 240 \n",
      "Total number of results: 449\n",
      "Next page found, downloading page 12\n",
      "Number of results processed: 260 \n",
      "Total number of results: 449\n",
      "Next page found, downloading page 13\n",
      "Number of results processed: 280 \n",
      "Total number of results: 449\n",
      "Next page found, downloading page 14\n",
      "Number of results processed: 300 \n",
      "Total number of results: 449\n",
      "Next page found, downloading page 15\n",
      "Number of results processed: 320 \n",
      "Total number of results: 449\n",
      "Next page found, downloading page 16\n",
      "Number of results processed: 340 \n",
      "Total number of results: 449\n",
      "Next page found, downloading page 17\n",
      "Number of results processed: 360 \n",
      "Total number of results: 449\n",
      "Next page found, downloading page 18\n",
      "Number of results processed: 380 \n",
      "Total number of results: 449\n",
      "Next page found, downloading page 19\n",
      "Number of results processed: 400 \n",
      "Total number of results: 449\n",
      "Next page found, downloading page 20\n",
      "Number of results processed: 420 \n",
      "Total number of results: 449\n",
      "Next page found, downloading page 21\n",
      "Number of results processed: 440 \n",
      "Total number of results: 449\n",
      "Next page found, downloading page 22\n",
      "Number of results processed: 449 \n",
      "Total number of results: 449\n"
     ]
    }
   ],
   "source": [
    "while (response.json()['metadata']['page']+ 1 ) * response.json()['metadata']['per_page'] < response.json()['metadata']['total']:\n",
    "    print(\"\\nNext page found, downloading page\", response.json()['metadata']['page']+ 1)\n",
    "    next_page_url = url = 'https://api.data.gov/ed/collegescorecard/v1/schools.json?school.state_fips=36&_fields=school.name,school.city,latest.cost.avg_net_price.public,latest.cost.avg_net_price.private&_page={}&api_key=PYiV7sp48Hy8l2XDg3bgx4tEEOLW8oaPthCNtgjR' \\\n",
    "        .format(response.json()['metadata']['page']+ 1)\n",
    "    response = requests.get(next_page_url)\n",
    "    # Store the current page of results\n",
    "    total_results = total_results + json.loads(response.text)['results']\n",
    "    print(\"Number of results processed: {} \\nTotal number of results: {}\".format(\n",
    "            len(total_results), response.json()['metadata']['total']))"
   ]
  },
  {
   "cell_type": "code",
   "execution_count": 24,
   "metadata": {
    "collapsed": false
   },
   "outputs": [
    {
     "data": {
      "text/html": [
       "<div>\n",
       "<style>\n",
       "    .dataframe thead tr:only-child th {\n",
       "        text-align: right;\n",
       "    }\n",
       "\n",
       "    .dataframe thead th {\n",
       "        text-align: left;\n",
       "    }\n",
       "\n",
       "    .dataframe tbody tr th {\n",
       "        vertical-align: top;\n",
       "    }\n",
       "</style>\n",
       "<table border=\"1\" class=\"dataframe\">\n",
       "  <thead>\n",
       "    <tr style=\"text-align: right;\">\n",
       "      <th></th>\n",
       "      <th>latest.cost.avg_net_price.private</th>\n",
       "      <th>latest.cost.avg_net_price.public</th>\n",
       "      <th>school.city</th>\n",
       "      <th>school.name</th>\n",
       "    </tr>\n",
       "  </thead>\n",
       "  <tbody>\n",
       "    <tr>\n",
       "      <th>0</th>\n",
       "      <td>NaN</td>\n",
       "      <td>NaN</td>\n",
       "      <td>Astoria</td>\n",
       "      <td>Miami Ad School-New York</td>\n",
       "    </tr>\n",
       "    <tr>\n",
       "      <th>1</th>\n",
       "      <td>10404.0</td>\n",
       "      <td>NaN</td>\n",
       "      <td>Latham</td>\n",
       "      <td>Aesthetic Science Institute</td>\n",
       "    </tr>\n",
       "    <tr>\n",
       "      <th>2</th>\n",
       "      <td>25602.0</td>\n",
       "      <td>NaN</td>\n",
       "      <td>New York</td>\n",
       "      <td>Digital Film Academy</td>\n",
       "    </tr>\n",
       "    <tr>\n",
       "      <th>3</th>\n",
       "      <td>11886.0</td>\n",
       "      <td>NaN</td>\n",
       "      <td>Copiague</td>\n",
       "      <td>Electrical Training Center</td>\n",
       "    </tr>\n",
       "    <tr>\n",
       "      <th>4</th>\n",
       "      <td>NaN</td>\n",
       "      <td>NaN</td>\n",
       "      <td>Hempstead</td>\n",
       "      <td>Access Careers</td>\n",
       "    </tr>\n",
       "  </tbody>\n",
       "</table>\n",
       "</div>"
      ],
      "text/plain": [
       "   latest.cost.avg_net_price.private  latest.cost.avg_net_price.public  \\\n",
       "0                                NaN                               NaN   \n",
       "1                            10404.0                               NaN   \n",
       "2                            25602.0                               NaN   \n",
       "3                            11886.0                               NaN   \n",
       "4                                NaN                               NaN   \n",
       "\n",
       "  school.city                  school.name  \n",
       "0     Astoria     Miami Ad School-New York  \n",
       "1      Latham  Aesthetic Science Institute  \n",
       "2    New York         Digital Film Academy  \n",
       "3    Copiague   Electrical Training Center  \n",
       "4   Hempstead               Access Careers  "
      ]
     },
     "execution_count": 24,
     "metadata": {},
     "output_type": "execute_result"
    },
    {
     "data": {
      "text/plain": [
       "(449, 4)"
      ]
     },
     "execution_count": 24,
     "metadata": {},
     "output_type": "execute_result"
    }
   ],
   "source": [
    "ny_school = pd.DataFrame(total_results)\n",
    "ny_school.head()\n",
    "ny_school.shape"
   ]
  },
  {
   "cell_type": "markdown",
   "metadata": {},
   "source": [
    "## Combine public and private costs into one column"
   ]
  },
  {
   "cell_type": "code",
   "execution_count": 27,
   "metadata": {
    "collapsed": false
   },
   "outputs": [
    {
     "data": {
      "text/html": [
       "<div>\n",
       "<style>\n",
       "    .dataframe thead tr:only-child th {\n",
       "        text-align: right;\n",
       "    }\n",
       "\n",
       "    .dataframe thead th {\n",
       "        text-align: left;\n",
       "    }\n",
       "\n",
       "    .dataframe tbody tr th {\n",
       "        vertical-align: top;\n",
       "    }\n",
       "</style>\n",
       "<table border=\"1\" class=\"dataframe\">\n",
       "  <thead>\n",
       "    <tr style=\"text-align: right;\">\n",
       "      <th></th>\n",
       "      <th>latest.cost.avg_net_price.private</th>\n",
       "      <th>latest.cost.avg_net_price.public</th>\n",
       "      <th>school.city</th>\n",
       "      <th>school.name</th>\n",
       "      <th>latest.cost.avg_net_price</th>\n",
       "    </tr>\n",
       "  </thead>\n",
       "  <tbody>\n",
       "    <tr>\n",
       "      <th>0</th>\n",
       "      <td>NaN</td>\n",
       "      <td>7861.0</td>\n",
       "      <td>Spindale</td>\n",
       "      <td>Isothermal Community College</td>\n",
       "      <td>7861.0</td>\n",
       "    </tr>\n",
       "    <tr>\n",
       "      <th>1</th>\n",
       "      <td>23018.0</td>\n",
       "      <td>NaN</td>\n",
       "      <td>Greensboro</td>\n",
       "      <td>Bennett College</td>\n",
       "      <td>23018.0</td>\n",
       "    </tr>\n",
       "    <tr>\n",
       "      <th>2</th>\n",
       "      <td>NaN</td>\n",
       "      <td>9068.0</td>\n",
       "      <td>Morehead City</td>\n",
       "      <td>Carteret Community College</td>\n",
       "      <td>9068.0</td>\n",
       "    </tr>\n",
       "    <tr>\n",
       "      <th>3</th>\n",
       "      <td>NaN</td>\n",
       "      <td>5662.0</td>\n",
       "      <td>Polkton</td>\n",
       "      <td>South Piedmont Community College</td>\n",
       "      <td>5662.0</td>\n",
       "    </tr>\n",
       "    <tr>\n",
       "      <th>4</th>\n",
       "      <td>NaN</td>\n",
       "      <td>13691.0</td>\n",
       "      <td>Boone</td>\n",
       "      <td>Appalachian State University</td>\n",
       "      <td>13691.0</td>\n",
       "    </tr>\n",
       "  </tbody>\n",
       "</table>\n",
       "</div>"
      ],
      "text/plain": [
       "   latest.cost.avg_net_price.private  latest.cost.avg_net_price.public  \\\n",
       "0                                NaN                            7861.0   \n",
       "1                            23018.0                               NaN   \n",
       "2                                NaN                            9068.0   \n",
       "3                                NaN                            5662.0   \n",
       "4                                NaN                           13691.0   \n",
       "\n",
       "     school.city                       school.name  latest.cost.avg_net_price  \n",
       "0       Spindale      Isothermal Community College                     7861.0  \n",
       "1     Greensboro                   Bennett College                    23018.0  \n",
       "2  Morehead City        Carteret Community College                     9068.0  \n",
       "3        Polkton  South Piedmont Community College                     5662.0  \n",
       "4          Boone      Appalachian State University                    13691.0  "
      ]
     },
     "execution_count": 27,
     "metadata": {},
     "output_type": "execute_result"
    },
    {
     "data": {
      "text/html": [
       "<div>\n",
       "<style>\n",
       "    .dataframe thead tr:only-child th {\n",
       "        text-align: right;\n",
       "    }\n",
       "\n",
       "    .dataframe thead th {\n",
       "        text-align: left;\n",
       "    }\n",
       "\n",
       "    .dataframe tbody tr th {\n",
       "        vertical-align: top;\n",
       "    }\n",
       "</style>\n",
       "<table border=\"1\" class=\"dataframe\">\n",
       "  <thead>\n",
       "    <tr style=\"text-align: right;\">\n",
       "      <th></th>\n",
       "      <th>latest.cost.avg_net_price.private</th>\n",
       "      <th>latest.cost.avg_net_price.public</th>\n",
       "      <th>school.city</th>\n",
       "      <th>school.name</th>\n",
       "      <th>latest.cost.avg_net_price</th>\n",
       "    </tr>\n",
       "  </thead>\n",
       "  <tbody>\n",
       "    <tr>\n",
       "      <th>0</th>\n",
       "      <td>NaN</td>\n",
       "      <td>NaN</td>\n",
       "      <td>Astoria</td>\n",
       "      <td>Miami Ad School-New York</td>\n",
       "      <td>NaN</td>\n",
       "    </tr>\n",
       "    <tr>\n",
       "      <th>1</th>\n",
       "      <td>10404.0</td>\n",
       "      <td>NaN</td>\n",
       "      <td>Latham</td>\n",
       "      <td>Aesthetic Science Institute</td>\n",
       "      <td>10404.0</td>\n",
       "    </tr>\n",
       "    <tr>\n",
       "      <th>2</th>\n",
       "      <td>25602.0</td>\n",
       "      <td>NaN</td>\n",
       "      <td>New York</td>\n",
       "      <td>Digital Film Academy</td>\n",
       "      <td>25602.0</td>\n",
       "    </tr>\n",
       "    <tr>\n",
       "      <th>3</th>\n",
       "      <td>11886.0</td>\n",
       "      <td>NaN</td>\n",
       "      <td>Copiague</td>\n",
       "      <td>Electrical Training Center</td>\n",
       "      <td>11886.0</td>\n",
       "    </tr>\n",
       "    <tr>\n",
       "      <th>4</th>\n",
       "      <td>NaN</td>\n",
       "      <td>NaN</td>\n",
       "      <td>Hempstead</td>\n",
       "      <td>Access Careers</td>\n",
       "      <td>NaN</td>\n",
       "    </tr>\n",
       "  </tbody>\n",
       "</table>\n",
       "</div>"
      ],
      "text/plain": [
       "   latest.cost.avg_net_price.private  latest.cost.avg_net_price.public  \\\n",
       "0                                NaN                               NaN   \n",
       "1                            10404.0                               NaN   \n",
       "2                            25602.0                               NaN   \n",
       "3                            11886.0                               NaN   \n",
       "4                                NaN                               NaN   \n",
       "\n",
       "  school.city                  school.name  latest.cost.avg_net_price  \n",
       "0     Astoria     Miami Ad School-New York                        NaN  \n",
       "1      Latham  Aesthetic Science Institute                    10404.0  \n",
       "2    New York         Digital Film Academy                    25602.0  \n",
       "3    Copiague   Electrical Training Center                    11886.0  \n",
       "4   Hempstead               Access Careers                        NaN  "
      ]
     },
     "execution_count": 27,
     "metadata": {},
     "output_type": "execute_result"
    }
   ],
   "source": [
    "nc_school['latest.cost.avg_net_price'] = nc_school['latest.cost.avg_net_price.private'].combine_first(nc_school['latest.cost.avg_net_price.public'])\n",
    "ny_school['latest.cost.avg_net_price'] = ny_school['latest.cost.avg_net_price.private'].combine_first(ny_school['latest.cost.avg_net_price.public'])\n",
    "\n",
    "nc_school.head()\n",
    "ny_school.head()"
   ]
  },
  {
   "cell_type": "code",
   "execution_count": 36,
   "metadata": {
    "collapsed": false
   },
   "outputs": [],
   "source": [
    "nc_school.dropna(subset=['latest.cost.avg_net_price'], inplace=True)\n",
    "ny_school.dropna(subset=['latest.cost.avg_net_price'], inplace=True)"
   ]
  },
  {
   "cell_type": "code",
   "execution_count": 42,
   "metadata": {
    "collapsed": false
   },
   "outputs": [
    {
     "data": {
      "text/plain": [
       "(167, 5)"
      ]
     },
     "execution_count": 42,
     "metadata": {},
     "output_type": "execute_result"
    },
    {
     "data": {
      "text/plain": [
       "latest.cost.avg_net_price.private    75\n",
       "latest.cost.avg_net_price.public     92\n",
       "school.city                           0\n",
       "school.name                           0\n",
       "latest.cost.avg_net_price             0\n",
       "dtype: int64"
      ]
     },
     "execution_count": 42,
     "metadata": {},
     "output_type": "execute_result"
    },
    {
     "data": {
      "text/plain": [
       "(375, 5)"
      ]
     },
     "execution_count": 42,
     "metadata": {},
     "output_type": "execute_result"
    },
    {
     "data": {
      "text/plain": [
       "latest.cost.avg_net_price.private    103\n",
       "latest.cost.avg_net_price.public     272\n",
       "school.city                            0\n",
       "school.name                            0\n",
       "latest.cost.avg_net_price              0\n",
       "dtype: int64"
      ]
     },
     "execution_count": 42,
     "metadata": {},
     "output_type": "execute_result"
    }
   ],
   "source": [
    "nc_school.shape\n",
    "nc_school.isnull().sum()\n",
    "ny_school.shape\n",
    "ny_school.isnull().sum()"
   ]
  },
  {
   "cell_type": "markdown",
   "metadata": {},
   "source": [
    "## Visualize and compare data"
   ]
  },
  {
   "cell_type": "code",
   "execution_count": 102,
   "metadata": {
    "collapsed": false
   },
   "outputs": [
    {
     "data": {
      "image/png": "[encoded data removed]",
      "text/plain": [
       "<matplotlib.figure.Figure at 0x11c89cef0>"
      ]
     },
     "metadata": {},
     "output_type": "display_data"
    }
   ],
   "source": [
    "fig1 = plt.figure(figsize=(15,5));\n",
    "sns.distplot(nc_school['latest.cost.avg_net_price'], kde=False, bins=50, \n",
    "             hist_kws={'alpha':0.5, 'color':'red'}, label = 'North Carolina');\n",
    "sns.distplot(ny_school['latest.cost.avg_net_price'], kde=False, bins=50, \n",
    "             hist_kws={'alpha':0.3,'color':'blue'}, label = 'New York');\n",
    "fig1.get_axes()[0].spines['right'].set_visible(False);\n",
    "fig1.get_axes()[0].spines['top'].set_visible(False);\n",
    "plt.legend(loc='upper right');\n",
    "plt.title('Distribution of average cost of attendance between NY and NC universities.',loc='left');\n"
   ]
  },
  {
   "cell_type": "code",
   "execution_count": 103,
   "metadata": {
    "collapsed": false
   },
   "outputs": [
    {
     "data": {
      "image/png": "[encoded data removed]",
      "text/plain": [
       "<matplotlib.figure.Figure at 0x11d09d9e8>"
      ]
     },
     "metadata": {},
     "output_type": "display_data"
    }
   ],
   "source": [
    "fig1 = plt.figure(figsize=(15,6));\n",
    "sns.swarmplot(nc_school['latest.cost.avg_net_price'], alpha = 0.7, color = 'red', label='North Carolina');\n",
    "sns.swarmplot(ny_school['latest.cost.avg_net_price'], alpha = 0.3, color = 'blue', label='New York');\n",
    "fig1.get_axes()[0].spines['right'].set_visible(False);\n",
    "fig1.get_axes()[0].spines['top'].set_visible(False);\n",
    "fig1.get_axes()[0].spines['left'].set_visible(False);\n",
    "plt.legend(loc='upper right');\n",
    "plt.title('Swarmplot of average cost of attendance between NY and NC universities.',loc='left');"
   ]
  },
  {
   "cell_type": "code",
   "execution_count": 73,
   "metadata": {
    "collapsed": false
   },
   "outputs": [
    {
     "data": {
      "text/plain": [
       "count      167.000000\n",
       "mean     14786.628743\n",
       "std       7965.750974\n",
       "min        224.000000\n",
       "25%       7696.000000\n",
       "50%      14101.000000\n",
       "75%      20521.500000\n",
       "max      38741.000000\n",
       "Name: latest.cost.avg_net_price, dtype: float64"
      ]
     },
     "execution_count": 73,
     "metadata": {},
     "output_type": "execute_result"
    },
    {
     "data": {
      "text/plain": [
       "count      375.000000\n",
       "mean     17595.685333\n",
       "std       9934.096258\n",
       "min       1886.000000\n",
       "25%       9855.000000\n",
       "50%      15962.000000\n",
       "75%      23590.000000\n",
       "max      53109.000000\n",
       "Name: latest.cost.avg_net_price, dtype: float64"
      ]
     },
     "execution_count": 73,
     "metadata": {},
     "output_type": "execute_result"
    }
   ],
   "source": [
    "nc_school['latest.cost.avg_net_price'].describe()\n",
    "ny_school['latest.cost.avg_net_price'].describe()"
   ]
  },
  {
   "cell_type": "markdown",
   "metadata": {},
   "source": [
    "## Hypothesis testing\n",
    "Prior to using parametric methods, we will need to test for normality. [Source](https://machinelearningmastery.com/a-gentle-introduction-to-normality-tests-in-python/)"
   ]
  },
  {
   "cell_type": "code",
   "execution_count": 89,
   "metadata": {
    "collapsed": false
   },
   "outputs": [
    {
     "name": "stdout",
     "output_type": "stream",
     "text": [
      "\n",
      "QQ plot for NC school costs\n"
     ]
    },
    {
     "data": {
      "image/png": "[encoded data removed]",
      "text/plain": [
       "<matplotlib.figure.Figure at 0x11a8b3748>"
      ]
     },
     "metadata": {},
     "output_type": "display_data"
    }
   ],
   "source": [
    "print('\\nQQ plot for NC school costs')\n",
    "qqplot(nc_school['latest.cost.avg_net_price'], line='s');"
   ]
  },
  {
   "cell_type": "code",
   "execution_count": 90,
   "metadata": {
    "collapsed": false
   },
   "outputs": [
    {
     "name": "stdout",
     "output_type": "stream",
     "text": [
      "\n",
      "QQ plot for NY school costs\n"
     ]
    },
    {
     "data": {
      "image/png": "[encoded data removed]",
      "text/plain": [
       "<matplotlib.figure.Figure at 0x11c682240>"
      ]
     },
     "metadata": {},
     "output_type": "display_data"
    }
   ],
   "source": [
    "print('\\nQQ plot for NY school costs')\n",
    "qqplot(ny_school['latest.cost.avg_net_price'], line='s');"
   ]
  },
  {
   "cell_type": "markdown",
   "metadata": {},
   "source": [
    "According to graphical methods (e.g. QQ plots), the data closely fits the expected diagonal pattern for a Gaussian distribution sample. Both datasets graphically show normality.  \n",
    "\n",
    "Using the Shapiro-Wilk test, we can \"quantify how likely it is that the data was drawn from a Gaussian distribution.\""
   ]
  },
  {
   "cell_type": "code",
   "execution_count": 99,
   "metadata": {
    "collapsed": false
   },
   "outputs": [
    {
     "name": "stdout",
     "output_type": "stream",
     "text": [
      "\n",
      "Statistics=0.9608, p=0.0001\n"
     ]
    }
   ],
   "source": [
    "stat, p = shapiro(nc_school['latest.cost.avg_net_price'])\n",
    "print('\\nStatistics={0:.4f}, p={1:.4f}'.format(stat,p))"
   ]
  },
  {
   "cell_type": "code",
   "execution_count": 100,
   "metadata": {
    "collapsed": false
   },
   "outputs": [
    {
     "name": "stdout",
     "output_type": "stream",
     "text": [
      "\n",
      "Statistics=0.9497, p=0.0000\n"
     ]
    }
   ],
   "source": [
    "stat, p = shapiro(ny_school['latest.cost.avg_net_price'])\n",
    "print('\\nStatistics={0:.4f}, p={1:.4f}'.format(stat,p))"
   ]
  },
  {
   "cell_type": "markdown",
   "metadata": {},
   "source": [
    "Using $\\alpha$ = 0.05, we reject the null hypothesis that both sets of data came from a Gaussian distribution since p < $\\alpha$. In summary, the NC and NY cost data are not normal, which is an assumption for parametric hypothesis testing. We will then choose a nonparametric alternative."
   ]
  },
  {
   "cell_type": "code",
   "execution_count": 105,
   "metadata": {
    "collapsed": false
   },
   "outputs": [
    {
     "name": "stdout",
     "output_type": "stream",
     "text": [
      "\n",
      "Statistics=26640.5000, p=0.0028\n"
     ]
    }
   ],
   "source": [
    "stat, p = mannwhitneyu(nc_school['latest.cost.avg_net_price'], ny_school['latest.cost.avg_net_price'])\n",
    "print('\\nStatistics={0:.4f}, p={1:.4f}'.format(stat,p))"
   ]
  },
  {
   "cell_type": "code",
   "execution_count": null,
   "metadata": {
    "collapsed": true
   },
   "outputs": [],
   "source": []
  }
 ],
 "metadata": {
  "anaconda-cloud": {},
  "kernelspec": {
   "display_name": "Python [anaconda]",
   "language": "python",
   "name": "Python [anaconda]"
  },
  "language_info": {
   "codemirror_mode": {
    "name": "ipython",
    "version": 3
   },
   "file_extension": ".py",
   "mimetype": "text/x-python",
   "name": "python",
   "nbconvert_exporter": "python",
   "pygments_lexer": "ipython3",
   "version": "3.5.2"
  },
  "toc": {
   "base_numbering": 1,
   "nav_menu": {},
   "number_sections": true,
   "sideBar": true,
   "skip_h1_title": true,
   "title_cell": "Table of Contents",
   "title_sidebar": "Contents",
   "toc_cell": false,
   "toc_position": {
    "height": "calc(100% - 180px)",
    "left": "10px",
    "top": "150px",
    "width": "194px"
   },
   "toc_section_display": true,
   "toc_window_display": true
  },
  "varInspector": {
   "cols": {
    "lenName": 16,
    "lenType": 16,
    "lenVar": 40
   },
   "kernels_config": {
    "python": {
     "delete_cmd_postfix": "",
     "delete_cmd_prefix": "del ",
     "library": "var_list.py",
     "varRefreshCmd": "print(var_dic_list())"
    },
    "r": {
     "delete_cmd_postfix": ") ",
     "delete_cmd_prefix": "rm(",
     "library": "var_list.r",
     "varRefreshCmd": "cat(var_dic_list()) "
    }
   },
   "types_to_exclude": [
    "module",
    "function",
    "builtin_function_or_method",
    "instance",
    "_Feature"
   ],
   "window_display": false
  }
 },
 "nbformat": 4,
 "nbformat_minor": 2
}
